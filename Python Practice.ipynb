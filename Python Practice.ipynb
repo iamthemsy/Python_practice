{
 "cells": [
  {
   "cell_type": "markdown",
   "id": "70eb116c-c32b-44ed-a6f6-ea972d2214f9",
   "metadata": {},
   "source": [
    "### 1. Program to print Hello World"
   ]
  },
  {
   "cell_type": "code",
   "execution_count": 2,
   "id": "cb6b6acb-be1a-4c11-a4da-99a3f314d951",
   "metadata": {},
   "outputs": [
    {
     "name": "stdout",
     "output_type": "stream",
     "text": [
      "Hello World!\n"
     ]
    }
   ],
   "source": [
    "print(\"Hello World!\")"
   ]
  },
  {
   "cell_type": "markdown",
   "id": "3c6cd9cb-570a-41f4-bee5-e43a59c1fb53",
   "metadata": {},
   "source": [
    "### 2. Program to Add Two Numbers"
   ]
  },
  {
   "cell_type": "code",
   "execution_count": 20,
   "id": "8a37d9a1-0b84-4181-81f2-cb3ef6c4fc9d",
   "metadata": {},
   "outputs": [
    {
     "name": "stdout",
     "output_type": "stream",
     "text": [
      "9\n",
      "The sum of 4 and 5 is 9\n"
     ]
    }
   ],
   "source": [
    "# Method 1 \n",
    "\n",
    "num1 = 4\n",
    "num2 = 5\n",
    "sum = num1 + num2\n",
    "print(sum)\n",
    "print(\"The sum of {} and {} is {}\".format(num1,num2,sum))"
   ]
  },
  {
   "cell_type": "code",
   "execution_count": 21,
   "id": "038fc4a5-5008-4d47-840d-c5c94db174ed",
   "metadata": {},
   "outputs": [
    {
     "name": "stdin",
     "output_type": "stream",
     "text": [
      "Enter 1st Number: 45\n",
      "Enter 2nd Number: 65.6\n"
     ]
    },
    {
     "name": "stdout",
     "output_type": "stream",
     "text": [
      "110.6\n",
      "The sum of 45.0 and 65.6 is 110.6\n"
     ]
    }
   ],
   "source": [
    "# Method 2 - By taking user inputs\n",
    "\n",
    "x = float(input(\"Enter 1st Number:\"))\n",
    "y = float(input(\"Enter 2nd Number:\"))\n",
    "\n",
    "z = x + y\n",
    "print(z)\n",
    "print(\"The sum of {} and {} is {}\".format(x,y,z))"
   ]
  },
  {
   "cell_type": "markdown",
   "id": "fdc497a1-e3bb-4f6f-a329-02faf06100b5",
   "metadata": {},
   "source": [
    "### 3. Program to take user input as float and convert to int"
   ]
  },
  {
   "cell_type": "code",
   "execution_count": 15,
   "id": "d6655bbf-6fe3-4049-be82-9da737586894",
   "metadata": {},
   "outputs": [
    {
     "name": "stdin",
     "output_type": "stream",
     "text": [
      "Enter Number 10.6\n"
     ]
    },
    {
     "name": "stdout",
     "output_type": "stream",
     "text": [
      "10\n"
     ]
    }
   ],
   "source": [
    "a = int(float(input(\"Enter Number\" )))        # Method 1\n",
    "print(a)"
   ]
  },
  {
   "cell_type": "code",
   "execution_count": 14,
   "id": "12cc8992-780d-4eb1-9995-14d76afcd8b4",
   "metadata": {},
   "outputs": [
    {
     "name": "stdin",
     "output_type": "stream",
     "text": [
      "Enter Number 5.8\n"
     ]
    },
    {
     "name": "stdout",
     "output_type": "stream",
     "text": [
      "5\n"
     ]
    }
   ],
   "source": [
    "print(int(float(input(\"Enter Number\" ))))     # Method 2 Direct"
   ]
  },
  {
   "cell_type": "markdown",
   "id": "c2399cd0-4ab3-4547-9952-0b382cc3c98f",
   "metadata": {},
   "source": [
    "### 4. Program to Find the Square Root"
   ]
  },
  {
   "cell_type": "code",
   "execution_count": 6,
   "id": "f0493fbe-615d-4980-b764-2b54b8cec91c",
   "metadata": {},
   "outputs": [
    {
     "name": "stdin",
     "output_type": "stream",
     "text": [
      "Enter any number: 16\n"
     ]
    },
    {
     "name": "stdout",
     "output_type": "stream",
     "text": [
      "4.0\n"
     ]
    }
   ],
   "source": [
    "num = int(input(\"Enter any number:\"))\n",
    "\n",
    "sqroot = num**(1/2)\n",
    "\n",
    "print(sqroot)"
   ]
  },
  {
   "cell_type": "markdown",
   "id": "bc0e0fb8-6c75-45b6-86b9-bd2fd74b98fb",
   "metadata": {},
   "source": [
    "### 5. Program to check if a number is even or odd"
   ]
  },
  {
   "cell_type": "code",
   "execution_count": 12,
   "id": "33409d31-e389-431e-9e10-38eec5e4d5f1",
   "metadata": {},
   "outputs": [
    {
     "name": "stdin",
     "output_type": "stream",
     "text": [
      "Enter any number: 40\n"
     ]
    },
    {
     "name": "stdout",
     "output_type": "stream",
     "text": [
      "Number is even\n"
     ]
    }
   ],
   "source": [
    "num = int(input(\"Enter any number:\"))\n",
    "\n",
    "if num % 2 == 0:\n",
    "    print(\"Number is even\")\n",
    "\n",
    "else:\n",
    "    print(\"Number is odd\")"
   ]
  },
  {
   "cell_type": "markdown",
   "id": "64e6bb18-e96e-44da-af3e-89a51bc511fc",
   "metadata": {},
   "source": [
    "### 6. Program to find the largest of three numbers"
   ]
  },
  {
   "cell_type": "code",
   "execution_count": 17,
   "id": "30fc2043-d503-4d74-976a-8276d7b86bbb",
   "metadata": {},
   "outputs": [
    {
     "name": "stdin",
     "output_type": "stream",
     "text": [
      "Enter first number: 50\n",
      "Enter second number: 39\n",
      "Enter third number: 63\n"
     ]
    },
    {
     "name": "stdout",
     "output_type": "stream",
     "text": [
      "63 is largest number\n"
     ]
    }
   ],
   "source": [
    "num1 = int(input(\"Enter first number:\"))\n",
    "num2 = int(input(\"Enter second number:\"))\n",
    "num3 = int(input(\"Enter third number:\"))\n",
    "\n",
    "if num1 > num2 and num1 > num3:\n",
    "    print(f\"{num1} is largest number\")\n",
    "    \n",
    "elif num2 > num1 and num2 > num3:\n",
    "    print(f\"{num2} is largest number\")\n",
    "\n",
    "else:\n",
    "    print(f\"{num3} is largest number\")\n"
   ]
  },
  {
   "cell_type": "markdown",
   "id": "eb2b6193-2180-4127-ac0f-d23d6b4c36b8",
   "metadata": {},
   "source": [
    "### 7. Write a program to add, subtract, multiply, and divide two numbers provided by the user\r\n"
   ]
  },
  {
   "cell_type": "code",
   "execution_count": 19,
   "id": "4331eaa2-2ab6-4bc6-be95-720df5e96df2",
   "metadata": {},
   "outputs": [
    {
     "name": "stdout",
     "output_type": "stream",
     "text": [
      "120\n",
      "80\n",
      "2000\n",
      "5.0\n"
     ]
    }
   ],
   "source": [
    "a = 100\n",
    "b = 20\n",
    "\n",
    "add = a + b\n",
    "sub = a - b\n",
    "mult = a * b \n",
    "div = a / b\n",
    "\n",
    "print(add)\n",
    "print(sub)\n",
    "print(mult)\n",
    "print(div)"
   ]
  },
  {
   "cell_type": "markdown",
   "id": "098ec78f-68d3-4bcd-9188-d8cc8e40c4d7",
   "metadata": {},
   "source": [
    "### 8. Write a program to count the number of vowels and consonants in a given string\r\n"
   ]
  },
  {
   "cell_type": "code",
   "execution_count": 36,
   "id": "defb7df3-00bf-4a27-b718-4df2b4ae6744",
   "metadata": {},
   "outputs": [
    {
     "name": "stdin",
     "output_type": "stream",
     "text": [
      "Enter your string: Manish Yadav \n"
     ]
    },
    {
     "name": "stdout",
     "output_type": "stream",
     "text": [
      "Number of vowels in given string is 4\n",
      "Number of consonents in given string is 7\n"
     ]
    }
   ],
   "source": [
    "str = input(\"Enter your string:\")\n",
    "vow = \"AaEeIiOoUu\"\n",
    "cons = \"BbCcDdFfGgHhJjKkLlMmNnPpQqRrSsTtVvWwXxYyZz\"\n",
    "vowel = 0\n",
    "consonent = 0\n",
    "\n",
    "for i in str:\n",
    "    if i in vow:\n",
    "        vowel += 1\n",
    "        \n",
    "    elif i in cons:           # Here elif is used because on using else it counts the blank spaces in consonents. So have to use elif and condition.\n",
    "        consonent +=1\n",
    "        \n",
    "print(f\"Number of vowels in given string is\", vowel)\n",
    "print(f\"Number of consonents in given string is\", consonent)"
   ]
  },
  {
   "cell_type": "markdown",
   "id": "9300ad0b-41e3-4ee2-a492-f49c657aec09",
   "metadata": {},
   "source": [
    "### 9. Write a program that acts as a simple calculator, performing addition, subtraction, multiplication, and division\r\n"
   ]
  },
  {
   "cell_type": "code",
   "execution_count": 40,
   "id": "ad9ee544-541f-4ae9-892d-196dfab6f08d",
   "metadata": {},
   "outputs": [
    {
     "name": "stdout",
     "output_type": "stream",
     "text": [
      "Welcome to the Calculator App\n"
     ]
    },
    {
     "name": "stdin",
     "output_type": "stream",
     "text": [
      "Enter 1st number: 30\n",
      "Enter 2nd number: 20\n"
     ]
    },
    {
     "name": "stdout",
     "output_type": "stream",
     "text": [
      "Addition of given number is 50\n",
      "Subtraction of given number is 10\n",
      "Multiplication of given number is 600\n",
      "Division of given number is 1.5\n"
     ]
    }
   ],
   "source": [
    "print(\"Welcome to the Calculator App\")\n",
    "\n",
    "num1 = int(input(\"Enter 1st number:\"))\n",
    "num2 = int(input(\"Enter 2nd number:\"))\n",
    "\n",
    "\n",
    "def add(num1 , num2):\n",
    "    sum = num1 + num2\n",
    "    return sum\n",
    "\n",
    "def sub(num1, num2):\n",
    "    subs = num1 - num2\n",
    "    return subs\n",
    "\n",
    "def mult(num1, num2):\n",
    "    mul = num1 * num2\n",
    "    return mul\n",
    "\n",
    "def div(num1, num2):\n",
    "    divi = num1 / num2\n",
    "    return divi\n",
    "\n",
    "addition = add(num1, num2)\n",
    "subtraction = sub(num1, num2)\n",
    "multipli = mult(num1, num2)\n",
    "division = div(num1, num2)\n",
    "\n",
    "print(\"Addition of given number is\", addition)\n",
    "print(\"Subtraction of given number is\", subtraction)\n",
    "print(\"Multiplication of given number is\", multipli)\n",
    "print(\"Division of given number is\", division)"
   ]
  },
  {
   "cell_type": "code",
   "execution_count": null,
   "id": "5c200866-0ffe-4293-a983-9f065ea20ce6",
   "metadata": {},
   "outputs": [],
   "source": [
    "# Logical Calculator using conditionals\n",
    "\n",
    "print(\"Welcome to Manish Calculator, It is the latest claculator in market\")     \n",
    "\n",
    "num1 = int(input(\"Enter 1st number:\"))\n",
    "num2 = int(input(\"Enter 2nd number:\"))\n",
    "\n",
    "\n",
    "def add(num1 , num2):\n",
    "    sum = num1 + num2\n",
    "    return sum\n",
    "\n",
    "def sub(num1, num2):\n",
    "    subs = num1 - num2\n",
    "    return subs\n",
    "\n",
    "def mult(num1, num2):\n",
    "    mul = num1 * num2\n",
    "    return mul\n",
    "\n",
    "def div(num1, num2):\n",
    "    divi = num1 / num2\n",
    "    return divi\n",
    "\n",
    "addition = add(num1, num2)\n",
    "subtraction = sub(num1, num2)\n",
    "multipli = mult(num1, num2)\n",
    "division = div(num1, num2)\n",
    "\n",
    "print(\"Addition of given number is\", addition)\n",
    "print(\"Subtraction of given number is\", subtraction)\n",
    "print(\"Multiplication of given number is\", multipli)\n",
    "print(\"Division of given number is\", division)"
   ]
  },
  {
   "cell_type": "markdown",
   "id": "5d2cb77b-3798-4a9c-ac10-a2bd2a37f035",
   "metadata": {},
   "source": [
    "### 10. Write a program to swap two variables using a third variable"
   ]
  },
  {
   "cell_type": "code",
   "execution_count": 41,
   "id": "6646d277-32a7-4031-93ba-87c7c0e8c634",
   "metadata": {},
   "outputs": [
    {
     "name": "stdout",
     "output_type": "stream",
     "text": [
      "Value of x after swapping 20\n",
      "Value of y after swapping 10\n"
     ]
    }
   ],
   "source": [
    "x = 10\n",
    "y = 20\n",
    "\n",
    "temp = x\n",
    "x = y \n",
    "y = temp \n",
    "\n",
    "print(\"Value of x after swapping\", x)\n",
    "print(\"Value of y after swapping\", y)\n"
   ]
  },
  {
   "cell_type": "markdown",
   "id": "74ec9f16-d920-46e7-a1cc-feaf78889d3a",
   "metadata": {},
   "source": [
    "### 11. Write a program to swap two variables without using a third variable"
   ]
  },
  {
   "cell_type": "code",
   "execution_count": 50,
   "id": "029ab796-68f5-4de5-b0bb-9680b8200820",
   "metadata": {},
   "outputs": [
    {
     "name": "stdout",
     "output_type": "stream",
     "text": [
      "Value of x after swapping 15\n",
      "Value of y after swapping 10\n"
     ]
    }
   ],
   "source": [
    "x = 10             # Method 1\n",
    "y = 15\n",
    "\n",
    "x = x + y       # Value become 25\n",
    "y = x - y       # Value become 10\n",
    "x = x - y       # Value become 15\n",
    "\n",
    "print(\"Value of x after swapping\", x)\n",
    "print(\"Value of y after swapping\", y)"
   ]
  },
  {
   "cell_type": "code",
   "execution_count": 48,
   "id": "6b782792-60bc-4c5f-b9a9-aae71feeac2d",
   "metadata": {},
   "outputs": [
    {
     "name": "stdout",
     "output_type": "stream",
     "text": [
      "Value of x after swapping 30\n",
      "Value of y after swapping 20\n"
     ]
    }
   ],
   "source": [
    "x = 20            # Method 2\n",
    "y = 30\n",
    "\n",
    "x,y = y,x\n",
    "\n",
    "print(\"Value of x after swapping\", x)\n",
    "print(\"Value of y after swapping\", y)"
   ]
  },
  {
   "cell_type": "markdown",
   "id": "9d65938d-ef0b-40ad-bb29-040d33623100",
   "metadata": {},
   "source": [
    "### 12. Write a program to convert temperature from Celsius to Fahrenheit"
   ]
  },
  {
   "cell_type": "code",
   "execution_count": 4,
   "id": "ab82f810-7c83-4bd3-b565-9e9c14c18978",
   "metadata": {},
   "outputs": [
    {
     "name": "stdin",
     "output_type": "stream",
     "text": [
      "Enter temperature in degree celsius: 36\n"
     ]
    },
    {
     "name": "stdout",
     "output_type": "stream",
     "text": [
      "Temperature in degree fahrenheit is 97.52\n"
     ]
    }
   ],
   "source": [
    "temp = int(input(\"Enter temperature in degree celsius:\")) \n",
    "\n",
    "fahrenheit = (temp * 1.82) + 32\n",
    "\n",
    "print(\"Temperature in degree fahrenheit is\", fahrenheit)\n"
   ]
  },
  {
   "cell_type": "markdown",
   "id": "9734b38f-8389-4e20-a334-e08b803eccc4",
   "metadata": {},
   "source": [
    "### 13. Write a program to convert temperature from Fahrenheit to Celsius "
   ]
  },
  {
   "cell_type": "code",
   "execution_count": 6,
   "id": "8c7fb19d-030f-4814-b59c-9670af79b8e6",
   "metadata": {},
   "outputs": [
    {
     "name": "stdin",
     "output_type": "stream",
     "text": [
      "Enter temperature in farhanheit: 104.25\n"
     ]
    },
    {
     "name": "stdout",
     "output_type": "stream",
     "text": [
      "Temperature in celsius is 39.6978021978022\n"
     ]
    }
   ],
   "source": [
    "temp = float(input(\"Enter temperature in farhanheit:\"))\n",
    "\n",
    "celsius = (temp - 32) / 1.82\n",
    "\n",
    "print(\"Temperature in celsius is\", celsius) "
   ]
  },
  {
   "cell_type": "markdown",
   "id": "2c8b45c5-3fea-4f6e-a2cc-b039ee18f17e",
   "metadata": {},
   "source": [
    "### 14. Write a program to print the multiplication table of a given number"
   ]
  },
  {
   "cell_type": "code",
   "execution_count": 14,
   "id": "b2a27fb4-02af-4fb6-826f-f265223af8a3",
   "metadata": {},
   "outputs": [
    {
     "name": "stdin",
     "output_type": "stream",
     "text": [
      "Enter any number: 5\n"
     ]
    },
    {
     "name": "stdout",
     "output_type": "stream",
     "text": [
      "5\n",
      "10\n",
      "15\n",
      "20\n",
      "25\n",
      "30\n",
      "35\n",
      "40\n",
      "45\n",
      "50\n"
     ]
    }
   ],
   "source": [
    "num = int(input(\"Enter any number:\"))       # Normal\n",
    "\n",
    "for i in range(1,11):\n",
    "    table = num * i\n",
    "    print(table)"
   ]
  },
  {
   "cell_type": "code",
   "execution_count": 15,
   "id": "0bffdc2c-2d4c-46cc-817d-7dc1a71f8483",
   "metadata": {},
   "outputs": [
    {
     "name": "stdin",
     "output_type": "stream",
     "text": [
      "Enter any number: 5\n"
     ]
    },
    {
     "name": "stdout",
     "output_type": "stream",
     "text": [
      " 5 x 1 = 5\n",
      " 5 x 2 = 10\n",
      " 5 x 3 = 15\n",
      " 5 x 4 = 20\n",
      " 5 x 5 = 25\n",
      " 5 x 6 = 30\n",
      " 5 x 7 = 35\n",
      " 5 x 8 = 40\n",
      " 5 x 9 = 45\n",
      " 5 x 10 = 50\n"
     ]
    }
   ],
   "source": [
    "num = int(input(\"Enter any number:\"))             # Advance\n",
    "\n",
    "for i in range(1,11):\n",
    "    table = num * i\n",
    "    print(f\" {num} x {i} =\", table)"
   ]
  },
  {
   "cell_type": "markdown",
   "id": "07610a1e-ca88-4a98-b85b-068bf2eac8a7",
   "metadata": {},
   "source": [
    "### 15. Write a program to check if two strings are anagrams"
   ]
  },
  {
   "cell_type": "code",
   "execution_count": 19,
   "id": "6f913db8-a76c-4750-aab1-f2181ca681ba",
   "metadata": {},
   "outputs": [
    {
     "data": {
      "text/plain": [
       "'The given strings are not ANAGRAMS'"
      ]
     },
     "execution_count": 19,
     "metadata": {},
     "output_type": "execute_result"
    }
   ],
   "source": [
    "\n",
    "def check_anagram(str1, str2):\n",
    "    if len(str1) != len(str2):\n",
    "        return \"The given strings are not ANAGRAMS\"\n",
    "\n",
    "    str1 = str1.lower()\n",
    "    str2 = str2.lower()\n",
    "    dict1 = {}\n",
    "    dict2 = {}\n",
    "    \n",
    "    for i in str1:\n",
    "        if i in str1:\n",
    "            dict1[i] = 1\n",
    "        else:\n",
    "            dict1[i] += 1\n",
    "    \n",
    "    # print(dict1)\n",
    "    \n",
    "    for i in str2:\n",
    "        if i in str2:\n",
    "            dict2[i] = 1\n",
    "        else:\n",
    "            dict2[i] += 1\n",
    "    \n",
    "    # print(dict2)\n",
    "    \n",
    "    if dict1 == dict2: \n",
    "        return \"The given strings are ANAGRAMS\"\n",
    "    return \"The given strings are not ANAGRAMS\"           # This return is used as else condition\n",
    "        \n",
    "str1 = \"Listln\"\n",
    "str2 = \"Silent\"\n",
    "\n",
    "check_anagram(str1,str2)"
   ]
  },
  {
   "cell_type": "markdown",
   "id": "800ac31e-2344-4439-aea9-77bd5aa2946f",
   "metadata": {},
   "source": [
    "### 16. Write a program to find the least common multiple (LCM) of two numbers"
   ]
  },
  {
   "cell_type": "code",
   "execution_count": 28,
   "id": "82a961a2-fcc9-4236-a12a-1adbeb2d270d",
   "metadata": {},
   "outputs": [
    {
     "name": "stdin",
     "output_type": "stream",
     "text": [
      "Enter 1st number: 10\n",
      "Enter 2nd number: 15\n"
     ]
    },
    {
     "name": "stdout",
     "output_type": "stream",
     "text": [
      "LCM of the given number is 30\n"
     ]
    }
   ],
   "source": [
    "def calc_lcm(num1, num2):\n",
    "    \n",
    "    if num1 > num2:\n",
    "        greater = num1\n",
    "    else:\n",
    "        greater = num2\n",
    "\n",
    "    while True:\n",
    "        if (greater % num1 == 0) and (greater % num2 == 0):\n",
    "            lcm = greater\n",
    "            break\n",
    "        greater += 1\n",
    "    return lcm\n",
    "\n",
    "num1 = int(input(\"Enter 1st number:\"))\n",
    "num2 = int(input(\"Enter 2nd number:\"))\n",
    "# calc_lcm(num1, num2)\n",
    "print(\"LCM of the given number is\", calc_lcm(num1, num2))"
   ]
  },
  {
   "cell_type": "markdown",
   "id": "340d417a-0890-4607-86e0-b4fdf948e2bd",
   "metadata": {},
   "source": [
    "### 17. Write a program to find the sum of the digits of a given number"
   ]
  },
  {
   "cell_type": "code",
   "execution_count": 12,
   "id": "d80b1b1d-b7a4-49c9-ab05-4534b868fa28",
   "metadata": {},
   "outputs": [
    {
     "name": "stdout",
     "output_type": "stream",
     "text": [
      "1\n",
      "3\n",
      "6\n",
      "10\n",
      "15\n"
     ]
    }
   ],
   "source": [
    "num = \"12345\"              # Value is in string format\n",
    "sum = 0\n",
    "\n",
    "for i in num:\n",
    "    sum = sum + int(i)     # i is converted in int format\n",
    "    print(sum)\n",
    "# print(sum)"
   ]
  },
  {
   "cell_type": "markdown",
   "id": "3a9c7211-0a1a-4d26-b901-948f482558e5",
   "metadata": {},
   "source": [
    "### 18. Write a program to count the number of words in a given string"
   ]
  },
  {
   "cell_type": "code",
   "execution_count": 23,
   "id": "20892298-01d4-4c56-bc46-3cfabdf3aa26",
   "metadata": {},
   "outputs": [
    {
     "name": "stdin",
     "output_type": "stream",
     "text": [
      "Enter your statement: Hey my name is manish and i live in mumbai i love watching movies\n"
     ]
    },
    {
     "name": "stdout",
     "output_type": "stream",
     "text": [
      "14\n"
     ]
    }
   ],
   "source": [
    "str = input(\"Enter your statement:\")\n",
    "\n",
    "word_count = str.split()\n",
    "print(len(word_count))\n"
   ]
  },
  {
   "cell_type": "code",
   "execution_count": null,
   "id": "7402b82f-92c6-478d-8e44-94a451d085ec",
   "metadata": {},
   "outputs": [],
   "source": []
  },
  {
   "cell_type": "code",
   "execution_count": null,
   "id": "2466dbcb-d442-4f90-9337-5ed26716c87d",
   "metadata": {},
   "outputs": [],
   "source": []
  },
  {
   "cell_type": "code",
   "execution_count": null,
   "id": "92502e78-2229-4aec-a335-6d57c571d39d",
   "metadata": {},
   "outputs": [],
   "source": []
  },
  {
   "cell_type": "code",
   "execution_count": null,
   "id": "94bd89b9-27ba-4ebb-8aae-7d30e41cc8c7",
   "metadata": {},
   "outputs": [],
   "source": []
  },
  {
   "cell_type": "code",
   "execution_count": null,
   "id": "61569ac9-2b9a-4289-a28f-194e49ace9b9",
   "metadata": {},
   "outputs": [],
   "source": []
  },
  {
   "cell_type": "code",
   "execution_count": null,
   "id": "9672199d-351e-403c-9dad-aae26bafbb2b",
   "metadata": {},
   "outputs": [],
   "source": []
  },
  {
   "cell_type": "code",
   "execution_count": null,
   "id": "0f8b4ef4-0414-451d-b341-d28bab89cc13",
   "metadata": {},
   "outputs": [],
   "source": []
  },
  {
   "cell_type": "markdown",
   "id": "11bc856f-c662-4e61-aea7-0a48ea49372c",
   "metadata": {},
   "source": [
    "## List Practice Question"
   ]
  },
  {
   "cell_type": "markdown",
   "id": "02e76b63-bb94-4cec-b193-2759450333aa",
   "metadata": {},
   "source": [
    "### Python program to find the sum of all elements in a list"
   ]
  },
  {
   "cell_type": "code",
   "execution_count": null,
   "id": "10268dd7-4673-4e71-b24f-09ee542f5dd1",
   "metadata": {},
   "outputs": [],
   "source": []
  },
  {
   "cell_type": "markdown",
   "id": "3e2d1887-4197-4413-807a-0cca433f3118",
   "metadata": {},
   "source": [
    "## Function Practice Question"
   ]
  },
  {
   "cell_type": "markdown",
   "id": "0d15a1f9-c7fd-4362-8aa8-c8554d351942",
   "metadata": {},
   "source": [
    "### 1) Write a Python function `add_numbers(a, b)` that takes two arguments and returns their sum"
   ]
  },
  {
   "cell_type": "code",
   "execution_count": 28,
   "id": "7b12e1d6-52cf-4f02-82cd-785945a78bcf",
   "metadata": {},
   "outputs": [
    {
     "name": "stdin",
     "output_type": "stream",
     "text": [
      "Enter 1st Number: 15\n",
      "Enter 2nd Number: 25\n"
     ]
    },
    {
     "data": {
      "text/plain": [
       "40"
      ]
     },
     "execution_count": 28,
     "metadata": {},
     "output_type": "execute_result"
    }
   ],
   "source": [
    "def add_numbers(a,b):\n",
    "    sum = a + b\n",
    "    return sum\n",
    "\n",
    "num1 = int(input(\"Enter 1st Number:\"))\n",
    "num2 = int(input(\"Enter 2nd Number:\"))\n",
    "\n",
    "add_numbers(num1, num2)"
   ]
  },
  {
   "cell_type": "markdown",
   "id": "887b6cd7-d648-4700-b057-58fc94f58b5b",
   "metadata": {},
   "source": [
    "### 2) Create a function `greet(name, message=\"Hello\")` that greets a user with a name and a default message"
   ]
  },
  {
   "cell_type": "code",
   "execution_count": 5,
   "id": "702dcc00-7d23-483b-b965-bfbb5f25ebde",
   "metadata": {},
   "outputs": [
    {
     "name": "stdout",
     "output_type": "stream",
     "text": [
      "Hello ('Manish', 'Ravi', 'Anish')\n"
     ]
    }
   ],
   "source": [
    "def greet(name, message = \"Hello\"):\n",
    "    print(message, name)\n",
    "\n",
    "name = (\"Manish\",\"Ravi\", \"Anish\") \n",
    "greet(name)"
   ]
  },
  {
   "cell_type": "markdown",
   "id": "d3917cf3-dece-4da5-b942-f50b8f86d696",
   "metadata": {},
   "source": [
    "### 3) Create a function which take give average of 3 numbers"
   ]
  },
  {
   "cell_type": "code",
   "execution_count": 33,
   "id": "a01fe9c6-0d3e-4d36-a837-0a60cfa2fd2a",
   "metadata": {},
   "outputs": [
    {
     "data": {
      "text/plain": [
       "40.333333333333336"
      ]
     },
     "execution_count": 33,
     "metadata": {},
     "output_type": "execute_result"
    }
   ],
   "source": [
    "def avrg(a,b,c):\n",
    "    average = (a+b+c)/3\n",
    "    return average\n",
    "\n",
    "avrg(12,25,84)"
   ]
  },
  {
   "cell_type": "code",
   "execution_count": null,
   "id": "47ca2d4f-f0f0-4327-a742-e2fe9cdc533d",
   "metadata": {},
   "outputs": [],
   "source": []
  },
  {
   "cell_type": "code",
   "execution_count": null,
   "id": "5aaa70c5-d1a2-447d-bd0a-024cc69845b2",
   "metadata": {},
   "outputs": [],
   "source": []
  },
  {
   "cell_type": "code",
   "execution_count": null,
   "id": "6f897ac9-8f3c-4ae5-832b-d5231ccb8ba9",
   "metadata": {},
   "outputs": [],
   "source": []
  },
  {
   "cell_type": "code",
   "execution_count": null,
   "id": "d5c1f367-d04b-4fcb-922c-4da634c39ca5",
   "metadata": {},
   "outputs": [],
   "source": []
  },
  {
   "cell_type": "code",
   "execution_count": null,
   "id": "2243220c-97cb-47b4-b793-547c36a0a3ac",
   "metadata": {},
   "outputs": [],
   "source": []
  },
  {
   "cell_type": "code",
   "execution_count": null,
   "id": "39a08164-df3f-409f-8307-c5d9a95c7db2",
   "metadata": {},
   "outputs": [],
   "source": []
  }
 ],
 "metadata": {
  "kernelspec": {
   "display_name": "Python 3 (ipykernel)",
   "language": "python",
   "name": "python3"
  },
  "language_info": {
   "codemirror_mode": {
    "name": "ipython",
    "version": 3
   },
   "file_extension": ".py",
   "mimetype": "text/x-python",
   "name": "python",
   "nbconvert_exporter": "python",
   "pygments_lexer": "ipython3",
   "version": "3.11.7"
  }
 },
 "nbformat": 4,
 "nbformat_minor": 5
}
