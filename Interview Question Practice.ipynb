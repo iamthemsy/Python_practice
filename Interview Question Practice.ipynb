{
 "cells": [
  {
   "cell_type": "markdown",
   "id": "bd1fc0da-3978-42ab-b408-ec39047c7888",
   "metadata": {},
   "source": [
    "### Prime number"
   ]
  },
  {
   "cell_type": "code",
   "execution_count": 97,
   "id": "28c5bf54-d7f7-4a12-8da7-34e45eca9393",
   "metadata": {},
   "outputs": [
    {
     "name": "stdin",
     "output_type": "stream",
     "text": [
      "Enter a number: 7\n"
     ]
    },
    {
     "name": "stdout",
     "output_type": "stream",
     "text": [
      "It's a prime number\n"
     ]
    }
   ],
   "source": [
    "num = int(input(\"Enter a number:\"))         # Mathod 1\n",
    "flag = True\n",
    "if num == 0 or num == 1:\n",
    "    flag = False\n",
    "elif num >= 2:\n",
    "    for i in range(2,num):\n",
    "        if num % i == 0:\n",
    "            flag = False\n",
    "            break\n",
    "\n",
    "\n",
    "if flag == True:\n",
    "    print(\"It's a prime number\")\n",
    "else:\n",
    "    print(\"It's not a prime number\")"
   ]
  },
  {
   "cell_type": "code",
   "execution_count": 98,
   "id": "319cddca-b028-47ef-a292-8cf49cff17e3",
   "metadata": {},
   "outputs": [
    {
     "data": {
      "text/plain": [
       "\"It's not a prime number\""
      ]
     },
     "execution_count": 98,
     "metadata": {},
     "output_type": "execute_result"
    }
   ],
   "source": [
    "def prime_number(num):                    # Method 2\n",
    "    if num == 0 or num == 1:\n",
    "        return \"It's not a prime number\"\n",
    "    elif num >= 2:\n",
    "        for i in range(2,num):\n",
    "            if num % i == 0:\n",
    "                return \"It's not a prime number\"     \n",
    "    return \"It's a prime number\"\n",
    "\n",
    "prime_number(0)"
   ]
  },
  {
   "cell_type": "markdown",
   "id": "82bc32d6-5a76-4c36-b49d-01a2940b806b",
   "metadata": {},
   "source": [
    "### Factorial "
   ]
  },
  {
   "cell_type": "code",
   "execution_count": 95,
   "id": "307af1d7-4f8c-4635-bc95-56d0e316c8ea",
   "metadata": {},
   "outputs": [
    {
     "name": "stdin",
     "output_type": "stream",
     "text": [
      "Enter number to find factorial: 6\n"
     ]
    },
    {
     "name": "stdout",
     "output_type": "stream",
     "text": [
      "720\n"
     ]
    }
   ],
   "source": [
    "num = int(input(\"Enter number to find factorial:\"))           # Method 1\n",
    "\n",
    "a = 1\n",
    "for i in range(1, num+1):\n",
    "    a = a*i\n",
    "\n",
    "print(a)"
   ]
  },
  {
   "cell_type": "code",
   "execution_count": 96,
   "id": "d85a65f6-53a1-4576-b3eb-cdde2d1857e8",
   "metadata": {},
   "outputs": [
    {
     "name": "stdin",
     "output_type": "stream",
     "text": [
      "Enter number to find factorial: 5\n"
     ]
    },
    {
     "data": {
      "text/plain": [
       "120"
      ]
     },
     "execution_count": 96,
     "metadata": {},
     "output_type": "execute_result"
    }
   ],
   "source": [
    "n = int(input(\"Enter number to find factorial:\"))         # Method 2\n",
    "\n",
    "def fact(n):\n",
    "    a = 1\n",
    "    for i in range(1, n+1):\n",
    "        a = a*i\n",
    "    return a\n",
    "fact(n)"
   ]
  },
  {
   "cell_type": "markdown",
   "id": "456c0e8e-03c5-44c3-a9c6-ccedc0454d9c",
   "metadata": {},
   "source": [
    "### Fibonacci Series"
   ]
  },
  {
   "cell_type": "code",
   "execution_count": 102,
   "id": "d4c679ee-1551-4f3a-8eeb-05c21e200b42",
   "metadata": {},
   "outputs": [
    {
     "name": "stdin",
     "output_type": "stream",
     "text": [
      "Enter length of Fibonacci: 6\n"
     ]
    },
    {
     "name": "stdout",
     "output_type": "stream",
     "text": [
      "0\n",
      "1\n",
      "1\n",
      "2\n",
      "3\n",
      "5\n"
     ]
    }
   ],
   "source": [
    "num = int(input(\"Enter length of Fibonacci:\"))\n",
    "          \n",
    "def fib(n):\n",
    "    a = 0\n",
    "    b = 1\n",
    "    for i in range(n):\n",
    "        print(a)\n",
    "        a,b = b,b+a\n",
    "\n",
    "fib(num)\n",
    "  "
   ]
  },
  {
   "cell_type": "markdown",
   "id": "c1ab4337-d0fe-420c-9a9a-0657df610fd1",
   "metadata": {},
   "source": [
    "### Reverse String"
   ]
  },
  {
   "cell_type": "code",
   "execution_count": 111,
   "id": "256845b1-b9af-4ebb-a9a7-f1abc65526bd",
   "metadata": {},
   "outputs": [
    {
     "name": "stdin",
     "output_type": "stream",
     "text": [
      "Enter your name: Manish \n"
     ]
    },
    {
     "name": "stdout",
     "output_type": "stream",
     "text": [
      "Reverse of your name is  hsinaM\n"
     ]
    }
   ],
   "source": [
    "name = input(\"Enter your name:\")          # Method 1\n",
    "\n",
    "print(\"Reverse of your name is\", name[::-1])"
   ]
  },
  {
   "cell_type": "code",
   "execution_count": 145,
   "id": "bcc91477-d439-458d-b852-e62b823301dd",
   "metadata": {},
   "outputs": [
    {
     "name": "stdout",
     "output_type": "stream",
     "text": [
      "['i', 'n', 'a', 'm']\n"
     ]
    },
    {
     "data": {
      "text/plain": [
       "'inam'"
      ]
     },
     "execution_count": 145,
     "metadata": {},
     "output_type": "execute_result"
    }
   ],
   "source": [
    "name = 'mani'           # Method 2\n",
    "li = []\n",
    "for i in range(len(name)-1,-1,-1):\n",
    "    li.append(name[i])\n",
    "print(li)\n",
    "''.join(li)\n"
   ]
  },
  {
   "cell_type": "code",
   "execution_count": 154,
   "id": "30729f0b-b572-4917-a628-d0fdb004a077",
   "metadata": {},
   "outputs": [
    {
     "name": "stdout",
     "output_type": "stream",
     "text": [
      "m\n",
      "am\n",
      "nam\n",
      "inam\n",
      "inam\n"
     ]
    }
   ],
   "source": [
    "name = 'mani'             # Method 3\n",
    "\n",
    "s = ''\n",
    "\n",
    "for i in name:\n",
    "    s = i + s\n",
    "    print(s)        # For getting every steps\n",
    "print(s)"
   ]
  },
  {
   "cell_type": "code",
   "execution_count": null,
   "id": "0ee7d5c4-6afb-40e0-98bc-e65aa8a74c52",
   "metadata": {},
   "outputs": [],
   "source": []
  }
 ],
 "metadata": {
  "kernelspec": {
   "display_name": "Python 3 (ipykernel)",
   "language": "python",
   "name": "python3"
  },
  "language_info": {
   "codemirror_mode": {
    "name": "ipython",
    "version": 3
   },
   "file_extension": ".py",
   "mimetype": "text/x-python",
   "name": "python",
   "nbconvert_exporter": "python",
   "pygments_lexer": "ipython3",
   "version": "3.11.7"
  }
 },
 "nbformat": 4,
 "nbformat_minor": 5
}
